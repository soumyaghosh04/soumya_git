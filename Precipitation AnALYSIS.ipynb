{
    "cells": [
        {
            "cell_type": "code",
            "execution_count": 3,
            "metadata": {},
            "outputs": [
                {
                    "data": {
                        "text/html": "<div>\n<style scoped>\n    .dataframe tbody tr th:only-of-type {\n        vertical-align: middle;\n    }\n\n    .dataframe tbody tr th {\n        vertical-align: top;\n    }\n\n    .dataframe thead th {\n        text-align: right;\n    }\n</style>\n<table border=\"1\" class=\"dataframe\">\n  <thead>\n    <tr style=\"text-align: right;\">\n      <th></th>\n      <th>BookId</th>\n      <th>Name</th>\n      <th>Author</th>\n      <th>Price</th>\n    </tr>\n  </thead>\n  <tbody>\n    <tr>\n      <th>0</th>\n      <td>1</td>\n      <td>Almighty</td>\n      <td>Irwing Wallace</td>\n      <td>350</td>\n    </tr>\n    <tr>\n      <th>1</th>\n      <td>2</td>\n      <td>Hotel</td>\n      <td>Arthur Hailey</td>\n      <td>400</td>\n    </tr>\n    <tr>\n      <th>2</th>\n      <td>3</td>\n      <td>Puppet On a Chain</td>\n      <td>Alistair McLean</td>\n      <td>400</td>\n    </tr>\n    <tr>\n      <th>3</th>\n      <td>4</td>\n      <td>The Firm</td>\n      <td>John Gresham</td>\n      <td>415</td>\n    </tr>\n    <tr>\n      <th>4</th>\n      <td>5</td>\n      <td>Eye of the needle</td>\n      <td>Ken Follet</td>\n      <td>500</td>\n    </tr>\n  </tbody>\n</table>\n</div>",
                        "text/plain": "   BookId               Name           Author  Price\n0       1           Almighty   Irwing Wallace    350\n1       2              Hotel    Arthur Hailey    400\n2       3  Puppet On a Chain  Alistair McLean    400\n3       4           The Firm     John Gresham    415\n4       5  Eye of the needle       Ken Follet    500"
                    },
                    "execution_count": 3,
                    "metadata": {},
                    "output_type": "execute_result"
                }
            ],
            "source": "# The code was removed by Watson Studio for sharing."
        },
        {
            "cell_type": "code",
            "execution_count": null,
            "metadata": {},
            "outputs": [],
            "source": "\nbody = client_3e8c9db7b23d4b7d9bcb3d475ef7b3de.get_object(Bucket='soumyacoursera-donotdelete-pr-6zyq8cmuqmdtok',Key='Car2DB_eng_cut.csv')['Body']\n# add missing __iter__ method, so pandas accepts body as file-like object\nif not hasattr(body, \"__iter__\"): body.__iter__ = types.MethodType( __iter__, body )\n\ndf_data_2 = pd.read_csv(body)\ndf_data_2.head()\n"
        }
    ],
    "metadata": {
        "kernelspec": {
            "display_name": "Python 3.6",
            "language": "python",
            "name": "python3"
        },
        "language_info": {
            "codemirror_mode": {
                "name": "ipython",
                "version": 3
            },
            "file_extension": ".py",
            "mimetype": "text/x-python",
            "name": "python",
            "nbconvert_exporter": "python",
            "pygments_lexer": "ipython3",
            "version": "3.6.9"
        }
    },
    "nbformat": 4,
    "nbformat_minor": 1
}